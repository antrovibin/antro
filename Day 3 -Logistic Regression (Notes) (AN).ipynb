{
 "cells": [
  {
   "cell_type": "code",
   "execution_count": null,
   "id": "5dcec2fe",
   "metadata": {},
   "outputs": [],
   "source": [
    "import pandas as pd\n",
    "import numpy as np\n",
    "import matplotlib.pyplot as plt\n",
    "import seaborn as sns"
   ]
  },
  {
   "cell_type": "code",
   "execution_count": null,
   "id": "6e4c7d98",
   "metadata": {},
   "outputs": [],
   "source": [
    "df = pd.read_csv(\"diabetes.csv\")"
   ]
  },
  {
   "cell_type": "markdown",
   "id": "0a42d599",
   "metadata": {},
   "source": [
    "# About Dataset"
   ]
  },
  {
   "cell_type": "markdown",
   "id": "dd658037",
   "metadata": {},
   "source": [
    "https://www.kaggle.com/datasets/mathchi/diabetes-data-set"
   ]
  },
  {
   "cell_type": "code",
   "execution_count": null,
   "id": "8a1f62cf",
   "metadata": {},
   "outputs": [],
   "source": [
    "df.head(20)"
   ]
  },
  {
   "cell_type": "code",
   "execution_count": null,
   "id": "3100524c",
   "metadata": {},
   "outputs": [],
   "source": [
    "sns.pairplot(df, hue = 'Outcome')"
   ]
  },
  {
   "cell_type": "code",
   "execution_count": null,
   "id": "ff7ca48f",
   "metadata": {},
   "outputs": [],
   "source": [
    "sns.heatmap(df.corr(), cbar = True, linewidths = 0.5)"
   ]
  },
  {
   "cell_type": "code",
   "execution_count": null,
   "id": "170cb2f6",
   "metadata": {},
   "outputs": [],
   "source": [
    "# input\n",
    "x = df.iloc[:, [0,1,2,3,4,5,6,7]].values\n",
    "  \n",
    "# output\n",
    "y = df.iloc[:, 8].values"
   ]
  },
  {
   "cell_type": "code",
   "execution_count": null,
   "id": "f29914e5",
   "metadata": {},
   "outputs": [],
   "source": [
    "print(x)\n",
    "print(y)"
   ]
  },
  {
   "cell_type": "code",
   "execution_count": null,
   "id": "9274c5f4",
   "metadata": {},
   "outputs": [],
   "source": [
    "from sklearn.model_selection import train_test_split\n",
    "X_train, X_test, Y_train, Y_test = train_test_split(x, y, test_size = 0.20, random_state = 0)"
   ]
  },
  {
   "cell_type": "code",
   "execution_count": null,
   "id": "7ad67e26",
   "metadata": {},
   "outputs": [],
   "source": [
    "from sklearn.linear_model import LogisticRegression\n",
    "classifier = LogisticRegression(solver='liblinear', C= 10.0, random_state = 0)\n",
    "classifier.fit(X_train, Y_train)"
   ]
  },
  {
   "cell_type": "code",
   "execution_count": null,
   "id": "9ae977c1",
   "metadata": {},
   "outputs": [],
   "source": [
    "y_pred = classifier.predict(X_test)"
   ]
  },
  {
   "cell_type": "code",
   "execution_count": null,
   "id": "3a74c83d",
   "metadata": {},
   "outputs": [],
   "source": [
    "from sklearn.metrics import confusion_matrix\n",
    "cm = confusion_matrix(Y_test, y_pred)\n",
    "  \n",
    "print (\"Confusion Matrix : \\n\", cm)"
   ]
  },
  {
   "cell_type": "code",
   "execution_count": null,
   "id": "c4c3128c",
   "metadata": {},
   "outputs": [],
   "source": [
    "from sklearn.metrics import accuracy_score\n",
    "print (\"Accuracy : \", accuracy_score(Y_test, y_pred))"
   ]
  },
  {
   "cell_type": "code",
   "execution_count": null,
   "id": "a7b7a5dc",
   "metadata": {},
   "outputs": [],
   "source": [
    "sns.scatterplot(x = Y_test, y = y_pred)"
   ]
  },
  {
   "cell_type": "code",
   "execution_count": null,
   "id": "1fdc8c32",
   "metadata": {},
   "outputs": [],
   "source": [
    "from sklearn.metrics import classification_report\n",
    "print(classification_report(Y_test, classifier.predict(X_test)))"
   ]
  },
  {
   "cell_type": "code",
   "execution_count": null,
   "id": "3cd5256b",
   "metadata": {},
   "outputs": [],
   "source": [
    "coefficient = classifier.coef_"
   ]
  },
  {
   "cell_type": "code",
   "execution_count": null,
   "id": "05c63474",
   "metadata": {},
   "outputs": [],
   "source": [
    "coefficient"
   ]
  },
  {
   "cell_type": "code",
   "execution_count": null,
   "id": "46d35fcc",
   "metadata": {},
   "outputs": [],
   "source": [
    "intercept = classifier.intercept_"
   ]
  },
  {
   "cell_type": "code",
   "execution_count": null,
   "id": "e4f52596",
   "metadata": {},
   "outputs": [],
   "source": [
    "def detectDiabetes(data):\n",
    "  log_odds = coefficient[0][0] * data[0] +coefficient[0][1] * data[1] +coefficient[0][2] * data[2] +coefficient[0][3] * data[3] +coefficient[0][4] * data[4] +coefficient[0][5] * data[5] +coefficient[0][6] * data[6] +coefficient[0][7] * data[7] + intercept\n",
    "  odds = np.exp(log_odds)\n",
    "  probability = odds / (1 + odds)\n",
    "  return(probability)\n"
   ]
  },
  {
   "cell_type": "code",
   "execution_count": null,
   "id": "e3d7d109",
   "metadata": {},
   "outputs": [],
   "source": [
    "detectDiabetes([1,89,66,23,94,28.1,0.167,21]) #Actual Output = 0 Row = 3"
   ]
  },
  {
   "cell_type": "code",
   "execution_count": null,
   "id": "ab838e31",
   "metadata": {},
   "outputs": [],
   "source": [
    "detectDiabetes([0,137,40,35,168,43.1,2.288,33]) #Actual Output = 1 Row = 4"
   ]
  },
  {
   "cell_type": "code",
   "execution_count": null,
   "id": "43432703",
   "metadata": {},
   "outputs": [],
   "source": [
    "classifier.predict([[2,197,70,45,543,30.5,0.158,53]])#Actual Output = 1 Row = 8"
   ]
  },
  {
   "cell_type": "code",
   "execution_count": null,
   "id": "fe3de2a1",
   "metadata": {},
   "outputs": [],
   "source": []
  },
  {
   "cell_type": "markdown",
   "id": "66913f18",
   "metadata": {},
   "source": [
    "# Practice Dataset"
   ]
  },
  {
   "cell_type": "markdown",
   "id": "90005d5a",
   "metadata": {},
   "source": [
    "Heart attack possibility : https://www.kaggle.com/datasets/nareshbhat/health-care-data-set-on-heart-attack-possibility"
   ]
  },
  {
   "cell_type": "markdown",
   "id": "9c888fba",
   "metadata": {},
   "source": [
    "Credit card clients Data Set\n",
    "https://archive.ics.uci.edu/ml/datasets/default+of+credit+card+clients#"
   ]
  },
  {
   "cell_type": "markdown",
   "id": "763f8369",
   "metadata": {},
   "source": [
    "Bank Customer Churn Dataset https://www.kaggle.com/datasets/gauravtopre/bank-customer-churn-dataset"
   ]
  },
  {
   "cell_type": "code",
   "execution_count": null,
   "id": "0bf66f1d",
   "metadata": {},
   "outputs": [],
   "source": []
  }
 ],
 "metadata": {
  "kernelspec": {
   "display_name": "Python 3 (ipykernel)",
   "language": "python",
   "name": "python3"
  },
  "language_info": {
   "codemirror_mode": {
    "name": "ipython",
    "version": 3
   },
   "file_extension": ".py",
   "mimetype": "text/x-python",
   "name": "python",
   "nbconvert_exporter": "python",
   "pygments_lexer": "ipython3",
   "version": "3.9.7"
  }
 },
 "nbformat": 4,
 "nbformat_minor": 5
}
